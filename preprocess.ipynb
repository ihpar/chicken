{
 "cells": [
  {
   "cell_type": "code",
   "execution_count": 1,
   "id": "ed704880",
   "metadata": {},
   "outputs": [],
   "source": [
    "import time\n",
    "import json\n",
    "import pickle\n",
    "import numpy as np\n",
    "import pandas as pd\n",
    "from datetime import datetime\n",
    "import matplotlib.pyplot as plt\n",
    "import plotly.graph_objects as go\n",
    "from scipy.signal import butter, filtfilt\n",
    "from scipy.interpolate import UnivariateSpline"
   ]
  },
  {
   "cell_type": "code",
   "execution_count": 2,
   "id": "ca36edec",
   "metadata": {},
   "outputs": [],
   "source": [
    "def get_ts(date_str):\n",
    "    ts = time.mktime(datetime.strptime(\n",
    "        date_str, \"%Y-%m-%d %H:%M:%S\").timetuple())\n",
    "    return int(ts)"
   ]
  },
  {
   "cell_type": "code",
   "execution_count": 3,
   "id": "fb611445",
   "metadata": {},
   "outputs": [],
   "source": [
    "def get_values_between_dates(matrix, sensor_idx, sensor_data, start_date, end_date):\n",
    "    start_ts = get_ts(start_date)\n",
    "    end_ts = get_ts(end_date)\n",
    "    t = np.linspace(start_ts, end_ts, 100)\n",
    "    result = {\"t\": t, \"hps\": []}\n",
    "    for hp in range(10):\n",
    "        df = sensor_data[matrix][sensor_idx][hp]\n",
    "        df_interval = df[(df[\"Real time clock\"] >= start_ts - 100)\n",
    "                         & (df[\"Real time clock\"] <= end_ts + 100)]\n",
    "\n",
    "        rtc = df_interval[\"Real time clock\"].values\n",
    "        gas = df_interval[\"Resistance Gassensor\"].values\n",
    "\n",
    "        interpolation_func = UnivariateSpline(rtc, gas, s=0)\n",
    "\n",
    "        y = interpolation_func(t)\n",
    "        result[\"hps\"].append(y)\n",
    "\n",
    "    return result"
   ]
  },
  {
   "cell_type": "code",
   "execution_count": 4,
   "id": "cb5b06c7",
   "metadata": {},
   "outputs": [],
   "source": [
    "def plot_sensor(mat, sensor, sensor_data):\n",
    "    title = f\"Matrix {mat}, Sensor {sensor}\"\n",
    "    fig = go.Figure()\n",
    "\n",
    "    for i, data in enumerate(sensor_data[\"hps\"]):\n",
    "        fig.add_trace(go.Scatter(x=sensor_data[\"t\"],\n",
    "                                 y=data,\n",
    "                                 mode=\"lines\",\n",
    "                                 showlegend=True,\n",
    "                                 name=f\"H.S. {i}\"))\n",
    "\n",
    "    fig.update_yaxes(title_text=\"Resistance (Ohms)\",\n",
    "                     type=\"log\", tickformat=\".0e\")\n",
    "    fig.update_xaxes(title_text=\"Datetime (Timestamp)\", tickformat=\".0e\")\n",
    "    fig.update_layout(height=400, width=700,\n",
    "                      title_x=0.5,\n",
    "                      font_family=\"Times New Roman\",\n",
    "                      title_font_family=\"Times New Roman\",\n",
    "                      title=dict(text=title, pad=dict(t=0, r=0, b=0, l=0)),\n",
    "                      margin=dict(t=50, r=10, b=0, l=0))\n",
    "\n",
    "    fig.update_yaxes(type=\"log\")\n",
    "    fig.show()"
   ]
  },
  {
   "cell_type": "code",
   "execution_count": 5,
   "id": "e99bb609",
   "metadata": {},
   "outputs": [],
   "source": [
    "label_datetimes = [\n",
    "    {\n",
    "        \"day\": 0,\n",
    "        \"start\": \"2025-07-11 15:55:00\",\n",
    "        \"end\": \"2025-07-11 16:15:00\"\n",
    "    },\n",
    "    {\n",
    "        \"day\": 1,\n",
    "        \"start\": \"2025-07-12 16:26:00\",\n",
    "        \"end\": \"2025-07-12 16:46:00\"\n",
    "    },\n",
    "    {\n",
    "        \"day\": 2,\n",
    "        \"start\": \"2025-07-13 16:26:00\",\n",
    "        \"end\": \"2025-07-13 16:46:00\"\n",
    "    },\n",
    "    {\n",
    "        \"day\": 3,\n",
    "        \"start\": \"2025-07-14 14:58:00\",\n",
    "        \"end\": \"2025-07-14 15:18:00\"\n",
    "    }\n",
    "]"
   ]
  },
  {
   "cell_type": "code",
   "execution_count": 9,
   "id": "95b6e3b3",
   "metadata": {},
   "outputs": [],
   "source": [
    "DAY = 3\n",
    "label = next((i for i in label_datetimes if i[\"day\"] == DAY), None)\n",
    "\n",
    "with open(f\"data/day_{DAY}/raw.pkl\", \"rb\") as f:\n",
    "    raw_data = pickle.load(f)\n",
    "\n",
    "interp_data = {\"air\": [], \"sample\": []}\n",
    "for matrix in interp_data:\n",
    "    for s_idx in range(8):\n",
    "        s_data = get_values_between_dates(\n",
    "            matrix,\n",
    "            s_idx,\n",
    "            raw_data,\n",
    "            label[\"start\"],\n",
    "            label[\"end\"])\n",
    "\n",
    "        interp_data[matrix].append(s_data)\n",
    "\n",
    "with open(f\"data/day_{DAY}/interp.pkl\", \"wb\") as f:\n",
    "    pickle.dump(interp_data, f)"
   ]
  },
  {
   "cell_type": "code",
   "execution_count": null,
   "id": "908fce1b",
   "metadata": {},
   "outputs": [],
   "source": []
  }
 ],
 "metadata": {
  "kernelspec": {
   "display_name": "mlenv",
   "language": "python",
   "name": "python3"
  },
  "language_info": {
   "codemirror_mode": {
    "name": "ipython",
    "version": 3
   },
   "file_extension": ".py",
   "mimetype": "text/x-python",
   "name": "python",
   "nbconvert_exporter": "python",
   "pygments_lexer": "ipython3",
   "version": "3.12.2"
  }
 },
 "nbformat": 4,
 "nbformat_minor": 5
}
