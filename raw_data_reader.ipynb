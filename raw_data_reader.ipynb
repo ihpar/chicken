{
 "cells": [
  {
   "cell_type": "code",
   "execution_count": null,
   "metadata": {},
   "outputs": [],
   "source": [
    "import json\n",
    "import pickle\n",
    "import pandas as pd\n",
    "import matplotlib.pyplot as plt"
   ]
  },
  {
   "cell_type": "code",
   "execution_count": null,
   "metadata": {},
   "outputs": [],
   "source": [
    "DAY = \"day_3\" # 14.07"
   ]
  },
  {
   "cell_type": "code",
   "execution_count": null,
   "metadata": {},
   "outputs": [],
   "source": [
    "def get_dataframe(f_name, save_xlsx=False):\n",
    "    with open(f\"raw_data/{f_name}.bmerawdata\") as f:\n",
    "        j = json.load(f)\n",
    "    column_names = [el[\"name\"] for el in j[\"rawDataBody\"][\"dataColumns\"]]\n",
    "    df = pd.DataFrame(j[\"rawDataBody\"][\"dataBlock\"], columns=column_names)\n",
    "\n",
    "    if save_xlsx:\n",
    "        df.to_excel(f\"raw_data/{f_name}.xlsx\")\n",
    "\n",
    "    return df"
   ]
  },
  {
   "cell_type": "code",
   "execution_count": null,
   "metadata": {},
   "outputs": [],
   "source": [
    "def build_sensor_data(df):\n",
    "    df[\"Date\"] = pd.to_datetime(\n",
    "        df[\"Real time clock\"],\n",
    "        unit=\"s\",\n",
    "        utc=True).map(lambda x: x.tz_convert(\"Europe/Istanbul\"))\n",
    "    df[\"Date\"] = df[\"Date\"].dt.tz_localize(None)\n",
    "\n",
    "    sensor_indexes = sorted(df[\"Sensor Index\"].unique())\n",
    "\n",
    "    sensors = {}\n",
    "    for i in sensor_indexes:\n",
    "        sensors[i] = {}\n",
    "        sensor = df[df[\"Sensor Index\"] == i]\n",
    "        heater_indexes = sorted(sensor[\"Heater Profile Step Index\"].unique())\n",
    "        for j in heater_indexes:\n",
    "            sensors[i][j] = sensor[sensor[\"Heater Profile Step Index\"] == j]\n",
    "\n",
    "    return sensors"
   ]
  },
  {
   "cell_type": "code",
   "execution_count": null,
   "metadata": {},
   "outputs": [],
   "source": [
    "def build_raw_data_pickle(save_pickle=None):\n",
    "    sensor_data = {}\n",
    "    for matrix in [\"air\", \"sample\"]:\n",
    "        df = get_dataframe(f\"{DAY}/{matrix}\")\n",
    "        sensor_data[f\"{matrix}\"] = build_sensor_data(df)\n",
    "\n",
    "    if save_pickle is not None:\n",
    "        with open(f\"{save_pickle}.pkl\", \"wb\") as f:\n",
    "            pickle.dump(sensor_data, f)\n",
    "\n",
    "    return sensor_data"
   ]
  },
  {
   "cell_type": "code",
   "execution_count": null,
   "metadata": {},
   "outputs": [],
   "source": [
    "sensor_data = build_raw_data_pickle(save_pickle=f\"data/{DAY}/raw\")"
   ]
  },
  {
   "cell_type": "code",
   "execution_count": null,
   "metadata": {},
   "outputs": [],
   "source": [
    "sensor_data[\"air\"][0][0]"
   ]
  },
  {
   "cell_type": "code",
   "execution_count": null,
   "metadata": {},
   "outputs": [],
   "source": [
    "def plot_sensor(matrix, sensor_idx, sensor_data):\n",
    "    plt.figure(figsize=(8, 4))\n",
    "    plt.title(f\"Matrix {matrix}, Sensor {sensor_idx}\")\n",
    "    plt.yscale(\"log\")\n",
    "    for hp_idx, val in sensor_data[f\"{matrix}\"][sensor_idx].items():\n",
    "        resistance = val[\"Resistance Gassensor\"].values\n",
    "        time_ms = val[\"Time Since PowerOn\"].values\n",
    "        plt.plot(time_ms, resistance, label=f\"HP {hp_idx}\")\n",
    "    plt.legend()\n",
    "    plt.show()"
   ]
  },
  {
   "cell_type": "code",
   "execution_count": null,
   "metadata": {},
   "outputs": [],
   "source": [
    "plot_sensor(\"air\", 0, sensor_data)"
   ]
  },
  {
   "cell_type": "code",
   "execution_count": null,
   "metadata": {},
   "outputs": [],
   "source": [
    "plot_sensor(\"sample\", 0, sensor_data)"
   ]
  },
  {
   "cell_type": "code",
   "execution_count": null,
   "metadata": {},
   "outputs": [],
   "source": []
  }
 ],
 "metadata": {
  "kernelspec": {
   "display_name": "mlenv",
   "language": "python",
   "name": "python3"
  },
  "language_info": {
   "codemirror_mode": {
    "name": "ipython",
    "version": 3
   },
   "file_extension": ".py",
   "mimetype": "text/x-python",
   "name": "python",
   "nbconvert_exporter": "python",
   "pygments_lexer": "ipython3",
   "version": "3.12.2"
  }
 },
 "nbformat": 4,
 "nbformat_minor": 2
}
